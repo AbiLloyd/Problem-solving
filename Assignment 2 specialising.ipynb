##Specialise (attack)
import numpy as np
import matplotlib.pyplot as plt
import scipy.linalg as LA
rng = np.random.default_rng()

n = int(input("What size nxn grid would you like to play in? n = "))
first = input("Would you like to go first? (Y/N) ")
A = rng.integers(8,9, (n,n))
pairs = [] 

print(A)
count = 0
if first == "Y":
    allowed = False
    while allowed == False:
        row = int(input("What row would you like to play in? "))-1
        column = int(input("What column would you like to play in? "))-1
        if A[row, column] == 8 and 0<=row<n and 0<=column<n:
            pairs = np.append(pairs, row)
            pairs = np.append(pairs, column)
            pairs = np.append(pairs, 100)
            pairs = np.append(pairs, 100)
            A[row, column] = 0
            allowed = True
            count = count + 1
finished = False
while finished == False:
    # Pick random number for one
    seen = True
    found = False
    if int(count) == int((n*n)-1):
        seen = False
        for x in range(0, n):
            for y in range(0, n):
                if A[x, y] == 8:
                    A[x, y] = 1
                    count = count + 1

    prow = []
    for x in range(0, n):
        prow = np.append(prow, x)
    while seen == True:
        if len(prow)>0:
            row = int(np.random.choice(prow,1))
        else:
            seen = False
        possible = []
        for x in range(0, n):
            possible = np.append(possible, x)
        for i in range (0, int((len(pairs))/2)):
            if pairs[2*i] == row:
                possible = np.setdiff1d(possible, [pairs[2*i+1]])
        if len(possible) > 0:
            column = int(np.random.choice(possible,1))
            seen = False
            found = True
        if len(possible) == 0:
            prow = np.setdiff1d(prow, [row])
    if found == True:
        A[row, column] = 1
        pairs = np.append(pairs, row)
        pairs = np.append(pairs, column)
        pairs = np.append(pairs, 100)
        pairs = np.append(pairs, 100)
        count = count +1     
    if count == n*n:
        finished = True
    print(A)
    allowed = False
    while allowed == False and finished == False:
        row = int(input("What row would you like to play in? "))-1
        column = int(input("What column would you like to play in? "))-1
        if A[row, column] == 8 and 0<=row<n and 0<=column<n:
            pairs = np.append(pairs, row)
            pairs = np.append(pairs, column)
            pairs = np.append(pairs, 100)
            pairs = np.append(pairs, 100)
            A[row, column] = 0
            finished = False
            allowed = True
            count = count + 1
    if count == n*n:
        finished = True
print("The determinant is", LA.det(A))
